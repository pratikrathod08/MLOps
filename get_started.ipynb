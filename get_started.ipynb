{
 "cells": [
  {
   "cell_type": "code",
   "execution_count": 1,
   "metadata": {},
   "outputs": [],
   "source": [
    "## MLFlow Tracking Server \n",
    "\n",
    "import mlflow "
   ]
  },
  {
   "cell_type": "code",
   "execution_count": 2,
   "metadata": {},
   "outputs": [],
   "source": [
    "## Set tracing uri \n",
    "\n",
    "mlflow.set_tracking_uri(\"http://127.0.0.1:5000\")"
   ]
  },
  {
   "cell_type": "code",
   "execution_count": 3,
   "metadata": {},
   "outputs": [
    {
     "name": "stderr",
     "output_type": "stream",
     "text": [
      "2025/03/29 15:59:49 INFO mlflow.tracking.fluent: Experiment with name 'Check Localhost Connection' does not exist. Creating a new experiment.\n"
     ]
    },
    {
     "data": {
      "text/plain": [
       "<Experiment: artifact_location='mlflow-artifacts:/524453296040261637', creation_time=1743244189546, experiment_id='524453296040261637', last_update_time=1743244189546, lifecycle_stage='active', name='Check Localhost Connection', tags={}>"
      ]
     },
     "execution_count": 3,
     "metadata": {},
     "output_type": "execute_result"
    }
   ],
   "source": [
    "mlflow.set_experiment(\"Check Localhost Connection\")"
   ]
  },
  {
   "cell_type": "code",
   "execution_count": 4,
   "metadata": {},
   "outputs": [
    {
     "name": "stdout",
     "output_type": "stream",
     "text": [
      "🏃 View run gentle-tern-681 at: http://127.0.0.1:5000/#/experiments/524453296040261637/runs/8185433a6c2a48deb1a9c63eae603f2d\n",
      "🧪 View experiment at: http://127.0.0.1:5000/#/experiments/524453296040261637\n"
     ]
    }
   ],
   "source": [
    "with mlflow.start_run():\n",
    "    mlflow.log_metric(\"Test\", 1)\n",
    "    mlflow.log_metric(\"Pratik\", 2)"
   ]
  },
  {
   "cell_type": "code",
   "execution_count": 5,
   "metadata": {},
   "outputs": [
    {
     "name": "stdout",
     "output_type": "stream",
     "text": [
      "🏃 View run My_test at: http://127.0.0.1:5000/#/experiments/524453296040261637/runs/407ff29b1d584e849df69ebd0cb027da\n",
      "🧪 View experiment at: http://127.0.0.1:5000/#/experiments/524453296040261637\n"
     ]
    }
   ],
   "source": [
    "with mlflow.start_run(run_name=\"My_test\"):\n",
    "    mlflow.log_metric(\"Test1\", 1)\n",
    "    mlflow.log_metric(\"Pratik1\", 2)"
   ]
  },
  {
   "cell_type": "code",
   "execution_count": null,
   "metadata": {},
   "outputs": [],
   "source": []
  }
 ],
 "metadata": {
  "kernelspec": {
   "display_name": "venv",
   "language": "python",
   "name": "python3"
  },
  "language_info": {
   "codemirror_mode": {
    "name": "ipython",
    "version": 3
   },
   "file_extension": ".py",
   "mimetype": "text/x-python",
   "name": "python",
   "nbconvert_exporter": "python",
   "pygments_lexer": "ipython3",
   "version": "3.10.11"
  },
  "orig_nbformat": 4
 },
 "nbformat": 4,
 "nbformat_minor": 2
}
